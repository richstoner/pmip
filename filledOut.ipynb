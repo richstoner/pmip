{
 "metadata": {
  "name": "filledOut"
 },
 "nbformat": 3,
 "nbformat_minor": 0,
 "worksheets": [
  {
   "cells": [
    {
     "cell_type": "code",
     "collapsed": false,
     "input": [
      "import aibs\n",
      "reload(aibs)\n",
      "api = aibs.api()\n",
      "explist = api.getValidSpecimentsWithName('H08-0083.01')\n",
      "\n",
      "e = explist[0]\n",
      "e.markersOfInterest = ['RORB', 'PCP4']\n",
      "e.getMarkerList(verbose=False)\n",
      "\n",
      "deb = e.getSectionImages()\n",
      "#e.printSpecimenDetails()"
     ],
     "language": "python",
     "metadata": {},
     "outputs": [],
     "prompt_number": 13
    },
    {
     "cell_type": "code",
     "collapsed": false,
     "input": [
      "import pmip\n",
      "reload(pmip)\n",
      "\n",
      "pimp = pmip.Processing('')\n",
      "pimp.initEnv()\n"
     ],
     "language": "python",
     "metadata": {},
     "outputs": [
      {
       "output_type": "stream",
       "stream": "stdout",
       "text": [
        "missing : /mnt/reconstruction\n",
        "missing : /mnt/reconstruction/specimens\n",
        "missing : /mnt/reconstruction/tmp\n",
        "missing : /mnt/reconstruction/video\n",
        "missing : /mnt/reconstruction/log\n",
        "environment not complete, please check configuration\n"
       ]
      }
     ],
     "prompt_number": 17
    },
    {
     "cell_type": "code",
     "collapsed": false,
     "input": [],
     "language": "python",
     "metadata": {},
     "outputs": [],
     "prompt_number": 126
    }
   ],
   "metadata": {}
  }
 ]
}