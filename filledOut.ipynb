{
 "metadata": {
  "name": "filledOut"
 },
 "nbformat": 3,
 "nbformat_minor": 0,
 "worksheets": [
  {
   "cells": [
    {
     "cell_type": "code",
     "collapsed": false,
     "input": [
      "import aibs\n",
      "reload(aibs)\n",
      "api = aibs.api()\n",
      "explist = api.getValidSpecimentsWithName('H08-0083.01')\n",
      "\n",
      "e = explist[0]\n",
      "e.markersOfInterest = ['RORB', 'PCP4']\n",
      "e.getMarkerList(verbose=False)\n",
      "\n",
      "deb = e.getSectionImages()\n",
      "e.printSpecimenDetails()"
     ],
     "language": "python",
     "metadata": {},
     "outputs": [
      {
       "output_type": "stream",
       "stream": "stdout",
       "text": [
        "all markers\n",
        "[{'id': 100034641, 'name': u'VIP', 'type': 'ISH'},\n",
        " {'id': 100034531, 'name': u'SLC1A2', 'type': 'ISH'},\n",
        " {'id': 100034525, 'name': u'PCP4', 'type': 'ISH'},\n",
        " {'id': 100033518, 'name': u'NTNG2', 'type': 'ISH'},\n",
        " {'id': 100034612, 'name': u'RELN', 'type': 'ISH'},\n",
        " {'id': 100034871, 'name': u'NRXN1', 'type': 'ISH'},\n",
        " {'id': 100034327, 'name': u'CTGF', 'type': 'ISH'},\n",
        " {'id': 100032212, 'name': u'PRKCB', 'type': 'ISH'},\n",
        " {'id': 100033402, 'name': u'NDNF', 'type': 'ISH'},\n",
        " {'id': 100034619, 'name': u'SST', 'type': 'ISH'},\n",
        " {'id': 100034580, 'name': u'PDE1A', 'type': 'ISH'},\n",
        " {'id': 100035059, 'name': u'AIF1', 'type': 'ISH'},\n",
        " {'id': 100029915, 'name': u'PVALB', 'type': 'ISH'},\n",
        " {'id': 100034759, 'name': u'GAD1', 'type': 'ISH'},\n",
        " {'id': 100034539, 'name': u'CXCL14', 'type': 'ISH'},\n",
        " {'id': 100029918, 'name': u'CALB1', 'type': 'ISH'},\n",
        " {'id': 100030594, 'name': u'CNTNAP2', 'type': 'ISH'},\n",
        " {'id': 100029767, 'name': u'NISSL', 'type': 'HIS'},\n",
        " {'id': 100029764, 'name': u'MFGE8', 'type': 'ISH'},\n",
        " {'id': 100032506, 'name': u'CALB2', 'type': 'ISH'},\n",
        " {'id': 100035174, 'name': u'SYNPR', 'type': 'ISH'},\n",
        " {'id': 100030581, 'name': u'FOXP2', 'type': 'ISH'},\n",
        " {'id': 100030029, 'name': u'RORB', 'type': 'ISH'},\n",
        " {'id': 100032306, 'name': u'MBP', 'type': 'ISH'},\n",
        " {'id': 100034306, 'name': u'VAT1L', 'type': 'ISH'}]\n",
        "filtered markers\n",
        "[{'id': 100034525, 'name': u'PCP4', 'type': 'ISH'},\n",
        " {'id': 100030029, 'name': u'RORB', 'type': 'ISH'}]\n",
        "section image list\n",
        "[100034525-006 - [ 23552 x 16896 ],\n",
        " 100034525-036 - [ 24256 x 18624 ],\n",
        " 100034525-066 - [ 24256 x 20639 ],\n",
        " 100034525-096 - [ 26048 x 20575 ],\n",
        " 100034525-126 - [ 25344 x 21375 ],\n",
        " 100034525-156 - [ 25344 x 20864 ],\n",
        " 100034525-186 - [ 25536 x 21312 ],\n",
        " 100034525-216 - [ 25311 x 20992 ],\n",
        " 100034525-246 - [ 25216 x 20031 ],\n",
        " 100034525-276 - [ 25664 x 19583 ],\n",
        " 100030029-012 - [ 22720 x 18624 ],\n",
        " 100030029-042 - [ 25728 x 19456 ],\n",
        " 100030029-072 - [ 25088 x 20544 ],\n",
        " 100030029-102 - [ 25920 x 20352 ],\n",
        " 100030029-132 - [ 25024 x 20544 ],\n",
        " 100030029-162 - [ 25728 x 20736 ],\n",
        " 100030029-192 - [ 26624 x 20736 ],\n",
        " 100030029-222 - [ 23936 x 20879 ],\n",
        " 100030029-252 - [ 25664 x 20352 ],\n",
        " 100030029-282 - [ 24768 x 20544 ]]\n"
       ]
      }
     ],
     "prompt_number": 182
    },
    {
     "cell_type": "code",
     "collapsed": false,
     "input": [
      "markersNeeded = ['RORB', 'NISSL', 'PCP4', 'CALB1']\n",
      "for e in explist:\n",
      "    e.markersOfInterest = markersNeeded\n",
      "    e.getMarkerList(verbose=False)\n",
      "\n",
      "e.filteredMarkers"
     ],
     "language": "python",
     "metadata": {},
     "outputs": [
      {
       "output_type": "pyout",
       "prompt_number": 169,
       "text": [
        "[{'id': 100034525, 'name': u'PCP4', 'type': 'ISH'},\n",
        " {'id': 100029918, 'name': u'CALB1', 'type': 'ISH'},\n",
        " {'id': 100029767, 'name': u'NISSL', 'type': 'HIS'},\n",
        " {'id': 100030029, 'name': u'RORB', 'type': 'ISH'}]"
       ]
      }
     ],
     "prompt_number": 169
    },
    {
     "cell_type": "code",
     "collapsed": false,
     "input": [
      "for e in e.filteredMarkers:\n",
      "    print(api.getImageListForID(e['id']))"
     ],
     "language": "python",
     "metadata": {},
     "outputs": [
      {
       "output_type": "stream",
       "stream": "stdout",
       "text": [
        "{u'plane_of_section_id': 4, u'weight': 5210, u'rnaseq_design_id': None, u'specimen_id': 4350, u'reference_space_id': None, u'sphinx_id': 25346, u'qc_date': u'2011-12-20T23:38:36Z', u'failed': False, u'storage_directory': None, u'section_images': [{u'structure_id': 1157, u'y': 128, u'annotated': False, u'width': 25536, u'image_type': u'Primary', u'specimen_id': None, u'image_width': 50976, u'height': 21312, u'section_number': 186, u'failed': False, u'tier_count': 9, u'image_height': 21552, u'lims1_id': None, u'x': 64, u'data_set_id': 100034525, u'path': u'/external/aibssan/production30/prod1/0400062131/0400062131.aff', u'resolution': 1.0, u'id': 100731575, u'expression_path': u'/external/aibssan/production30/prod1/0400062131/0400062131_expression.aff'}, {u'structure_id': 1157, u'y': 64, u'annotated': False, u'width': 25311, u'image_type': u'Primary', u'specimen_id': None, u'image_width': 50976, u'height': 20992, u'section_number': 216, u'failed': False, u'tier_count': 9, u'image_height': 21552, u'lims1_id': None, u'x': 25664, u'data_set_id': 100034525, u'path': u'/external/aibssan/production30/prod1/0400062131/0400062131.aff', u'resolution': 1.0, u'id': 100731576, u'expression_path': u'/external/aibssan/production30/prod1/0400062131/0400062131_expression.aff'}, {u'structure_id': 1157, u'y': 1280, u'annotated': False, u'width': 23552, u'image_type': u'Primary', u'specimen_id': None, u'image_width': 48656, u'height': 16896, u'section_number': 6, u'failed': False, u'tier_count': 9, u'image_height': 19392, u'lims1_id': None, u'x': 320, u'data_set_id': 100034525, u'path': u'/external/aibssan/production30/prod1/0400061699/0400061699.aff', u'resolution': 1.0, u'id': 100731585, u'expression_path': u'/external/aibssan/production30/prod1/0400061699/0400061699_expression.aff'}, {u'structure_id': 1157, u'y': 448, u'annotated': False, u'width': 24256, u'image_type': u'Primary', u'specimen_id': None, u'image_width': 48656, u'height': 18624, u'section_number': 36, u'failed': False, u'tier_count': 9, u'image_height': 19392, u'lims1_id': None, u'x': 24128, u'data_set_id': 100034525, u'path': u'/external/aibssan/production30/prod1/0400061699/0400061699.aff', u'resolution': 1.0, u'id': 100731586, u'expression_path': u'/external/aibssan/production30/prod1/0400061699/0400061699_expression.aff'}, {u'structure_id': 1157, u'y': 64, u'annotated': False, u'width': 24256, u'image_type': u'Primary', u'specimen_id': None, u'image_width': 50976, u'height': 20639, u'section_number': 66, u'failed': False, u'tier_count': 9, u'image_height': 20704, u'lims1_id': None, u'x': 64, u'data_set_id': 100034525, u'path': u'/external/aibssan/production30/prod1/0400061843/0400061843.aff', u'resolution': 1.0, u'id': 100732196, u'expression_path': u'/external/aibssan/production30/prod1/0400061843/0400061843_expression.aff'}, {u'structure_id': 1157, u'y': 128, u'annotated': False, u'width': 26048, u'image_type': u'Primary', u'specimen_id': None, u'image_width': 50976, u'height': 20575, u'section_number': 96, u'failed': False, u'tier_count': 9, u'image_height': 20704, u'lims1_id': None, u'x': 24704, u'data_set_id': 100034525, u'path': u'/external/aibssan/production30/prod1/0400061843/0400061843.aff', u'resolution': 1.0, u'id': 100732197, u'expression_path': u'/external/aibssan/production30/prod1/0400061843/0400061843_expression.aff'}, {u'structure_id': 1157, u'y': 64, u'annotated': False, u'width': 25344, u'image_type': u'Primary', u'specimen_id': None, u'image_width': 50000, u'height': 21375, u'section_number': 126, u'failed': False, u'tier_count': 9, u'image_height': 21440, u'lims1_id': None, u'x': 512, u'data_set_id': 100034525, u'path': u'/external/aibssan/production30/prod1/0400061987/0400061987.aff', u'resolution': 1.0, u'id': 100732203, u'expression_path': u'/external/aibssan/production30/prod1/0400061987/0400061987_expression.aff'}, {u'structure_id': 1157, u'y': 512, u'annotated': False, u'width': 25344, u'image_type': u'Primary', u'specimen_id': None, u'image_width': 50000, u'height': 20864, u'section_number': 156, u'failed': False, u'tier_count': 9, u'image_height': 21440, u'lims1_id': None, u'x': 24640, u'data_set_id': 100034525, u'path': u'/external/aibssan/production30/prod1/0400061987/0400061987.aff', u'resolution': 1.0, u'id': 100732204, u'expression_path': u'/external/aibssan/production30/prod1/0400061987/0400061987_expression.aff'}, {u'structure_id': 1157, u'y': 0, u'annotated': False, u'width': 25216, u'image_type': u'Primary', u'specimen_id': None, u'image_width': 50000, u'height': 20031, u'section_number': 246, u'failed': False, u'tier_count': 9, u'image_height': 20032, u'lims1_id': None, u'x': 64, u'data_set_id': 100034525, u'path': u'/external/aibssan/production30/prod1/0400062275/0400062275.aff', u'resolution': 1.0, u'id': 100732293, u'expression_path': u'/external/aibssan/production30/prod1/0400062275/0400062275_expression.aff'}, {u'structure_id': 1157, u'y': 448, u'annotated': False, u'width': 25664, u'image_type': u'Primary', u'specimen_id': None, u'image_width': 50000, u'height': 19583, u'section_number': 276, u'failed': False, u'tier_count': 9, u'image_height': 20032, u'lims1_id': None, u'x': 24320, u'data_set_id': 100034525, u'path': u'/external/aibssan/production30/prod1/0400062275/0400062275.aff', u'resolution': 1.0, u'id': 100732294, u'expression_path': u'/external/aibssan/production30/prod1/0400062275/0400062275_expression.aff'}], u'section_thickness': 20, u'expression': False, u'id': 100034525, u'name': None}\n",
        "{u'plane_of_section_id': 4, u'weight': 5210, u'rnaseq_design_id': None, u'specimen_id': 4350, u'reference_space_id': None, u'sphinx_id': 78533, u'qc_date': u'2011-12-14T18:04:31Z', u'failed': False, u'storage_directory': None, u'section_images': [{u'structure_id': 1157, u'y': 1216, u'annotated': False, u'width': 24896, u'image_type': u'Primary', u'specimen_id': None, u'image_width': 50976, u'height': 20544, u'section_number': 71, u'failed': False, u'tier_count': 9, u'image_height': 22000, u'lims1_id': None, u'x': 640, u'data_set_id': 100029918, u'path': u'/external/aibssan/production30/prod0/0400070351/0400070351.aff', u'resolution': 1.0, u'id': 100647941, u'expression_path': u'/external/aibssan/production30/prod0/0400070351/0400070351_expression.aff'}, {u'structure_id': 1157, u'y': 1984, u'annotated': False, u'width': 26143, u'image_type': u'Primary', u'specimen_id': None, u'image_width': 50976, u'height': 19712, u'section_number': 101, u'failed': False, u'tier_count': 9, u'image_height': 22000, u'lims1_id': None, u'x': 24832, u'data_set_id': 100029918, u'path': u'/external/aibssan/production30/prod0/0400070351/0400070351.aff', u'resolution': 1.0, u'id': 100647942, u'expression_path': u'/external/aibssan/production30/prod0/0400070351/0400070351_expression.aff'}, {u'structure_id': 1157, u'y': 448, u'annotated': False, u'width': 24768, u'image_type': u'Primary', u'specimen_id': None, u'image_width': 50976, u'height': 20864, u'section_number': 131, u'failed': False, u'tier_count': 9, u'image_height': 21616, u'lims1_id': None, u'x': 1280, u'data_set_id': 100029918, u'path': u'/external/aibssan/production30/prod0/0400070495/0400070495.aff', u'resolution': 1.0, u'id': 100647943, u'expression_path': u'/external/aibssan/production30/prod0/0400070495/0400070495_expression.aff'}, {u'structure_id': 1157, u'y': 64, u'annotated': False, u'width': 24607, u'image_type': u'Primary', u'specimen_id': None, u'image_width': 50976, u'height': 21551, u'section_number': 161, u'failed': False, u'tier_count': 9, u'image_height': 21616, u'lims1_id': None, u'x': 26368, u'data_set_id': 100029918, u'path': u'/external/aibssan/production30/prod0/0400070495/0400070495.aff', u'resolution': 1.0, u'id': 100647944, u'expression_path': u'/external/aibssan/production30/prod0/0400070495/0400070495_expression.aff'}, {u'structure_id': 1157, u'y': 256, u'annotated': False, u'width': 24896, u'image_type': u'Primary', u'specimen_id': None, u'image_width': 49824, u'height': 21504, u'section_number': 191, u'failed': False, u'tier_count': 9, u'image_height': 21968, u'lims1_id': None, u'x': 0, u'data_set_id': 100029918, u'path': u'/external/aibssan/production30/prod0/0400070639/0400070639.aff', u'resolution': 1.0, u'id': 100647949, u'expression_path': u'/external/aibssan/production30/prod0/0400070639/0400070639_expression.aff'}, {u'structure_id': 1157, u'y': 1472, u'annotated': False, u'width': 25024, u'image_type': u'Primary', u'specimen_id': None, u'image_width': 49824, u'height': 20288, u'section_number': 221, u'failed': False, u'tier_count': 9, u'image_height': 21968, u'lims1_id': None, u'x': 24192, u'data_set_id': 100029918, u'path': u'/external/aibssan/production30/prod0/0400070639/0400070639.aff', u'resolution': 1.0, u'id': 100647950, u'expression_path': u'/external/aibssan/production30/prod0/0400070639/0400070639_expression.aff'}, {u'structure_id': 1157, u'y': 1024, u'annotated': False, u'width': 25664, u'image_type': u'Primary', u'specimen_id': None, u'image_width': 49824, u'height': 20352, u'section_number': 251, u'failed': False, u'tier_count': 9, u'image_height': 21968, u'lims1_id': None, u'x': 384, u'data_set_id': 100029918, u'path': u'/external/aibssan/production30/prod0/0400070783/0400070783.aff', u'resolution': 1.0, u'id': 100650202, u'expression_path': u'/external/aibssan/production30/prod0/0400070783/0400070783_expression.aff'}, {u'structure_id': 1157, u'y': 576, u'annotated': False, u'width': 24704, u'image_type': u'Primary', u'specimen_id': None, u'image_width': 49824, u'height': 21391, u'section_number': 281, u'failed': False, u'tier_count': 9, u'image_height': 21968, u'lims1_id': None, u'x': 25024, u'data_set_id': 100029918, u'path': u'/external/aibssan/production30/prod0/0400070783/0400070783.aff', u'resolution': 1.0, u'id': 100650203, u'expression_path': u'/external/aibssan/production30/prod0/0400070783/0400070783_expression.aff'}, {u'structure_id': 1157, u'y': 320, u'annotated': False, u'width': 23552, u'image_type': u'Primary', u'specimen_id': None, u'image_width': 49728, u'height': 18304, u'section_number': 11, u'failed': False, u'tier_count': 9, u'image_height': 19680, u'lims1_id': None, u'x': 320, u'data_set_id': 100029918, u'path': u'/external/aibssan/production30/prod0/0400072071/0400072071.aff', u'resolution': 1.0, u'id': 100879122, u'expression_path': u'/external/aibssan/production30/prod0/0400072071/0400072071_expression.aff'}, {u'structure_id': 1157, u'y': 896, u'annotated': False, u'width': 25280, u'image_type': u'Primary', u'specimen_id': None, u'image_width': 49728, u'height': 18783, u'section_number': 41, u'failed': False, u'tier_count': 9, u'image_height': 19680, u'lims1_id': None, u'x': 24320, u'data_set_id': 100029918, u'path': u'/external/aibssan/production30/prod0/0400072071/0400072071.aff', u'resolution': 1.0, u'id': 100879123, u'expression_path': u'/external/aibssan/production30/prod0/0400072071/0400072071_expression.aff'}], u'section_thickness': 20, u'expression': False, u'id': 100029918, u'name': None}"
       ]
      },
      {
       "output_type": "stream",
       "stream": "stdout",
       "text": [
        "\n",
        "{u'plane_of_section_id': 4, u'weight': 5210, u'rnaseq_design_id': None, u'specimen_id': 4350, u'reference_space_id': None, u'sphinx_id': 85632, u'qc_date': u'2011-12-12T20:03:16Z', u'failed': False, u'storage_directory': None, u'section_images': [{u'structure_id': 1157, u'y': 512, u'annotated': False, u'width': 23872, u'image_type': u'Primary', u'specimen_id': None, u'image_width': 49536, u'height': 18816, u'section_number': 30, u'failed': False, u'tier_count': 9, u'image_height': 20400, u'lims1_id': None, u'x': 320, u'data_set_id': 100029767, u'path': u'/external/aibssan/production30/prod0/0400057980/0400057980.aff', u'resolution': 1.0, u'id': 100647843, u'expression_path': None}, {u'structure_id': 1157, u'y': 320, u'annotated': False, u'width': 25408, u'image_type': u'Primary', u'specimen_id': None, u'image_width': 48320, u'height': 20224, u'section_number': 90, u'failed': False, u'tier_count': 9, u'image_height': 21152, u'lims1_id': None, u'x': 384, u'data_set_id': 100029767, u'path': u'/external/aibssan/production30/prod0/0400058124/0400058124.aff', u'resolution': 1.0, u'id': 100647833, u'expression_path': None}, {u'structure_id': 1157, u'y': 512, u'annotated': False, u'width': 22784, u'image_type': u'Primary', u'specimen_id': None, u'image_width': 48320, u'height': 20672, u'section_number': 120, u'failed': False, u'tier_count': 9, u'image_height': 21152, u'lims1_id': None, u'x': 25472, u'data_set_id': 100029767, u'path': u'/external/aibssan/production30/prod0/0400058124/0400058124.aff', u'resolution': 1.0, u'id': 100647834, u'expression_path': None}, {u'structure_id': 1157, u'y': 0, u'annotated': False, u'width': 25088, u'image_type': u'Primary', u'specimen_id': None, u'image_width': 49856, u'height': 21056, u'section_number': 150, u'failed': False, u'tier_count': 9, u'image_height': 21216, u'lims1_id': None, u'x': 0, u'data_set_id': 100029767, u'path': u'/external/aibssan/production30/prod0/0400072256/0400072256.aff', u'resolution': 1.0, u'id': 100647835, u'expression_path': None}, {u'structure_id': 1157, u'y': 128, u'annotated': False, u'width': 25664, u'image_type': u'Primary', u'specimen_id': None, u'image_width': 49856, u'height': 20864, u'section_number': 180, u'failed': False, u'tier_count': 9, u'image_height': 21216, u'lims1_id': None, u'x': 24128, u'data_set_id': 100029767, u'path': u'/external/aibssan/production30/prod0/0400072256/0400072256.aff', u'resolution': 1.0, u'id': 100647836, u'expression_path': None}, {u'structure_id': 1157, u'y': 64, u'annotated': False, u'width': 24832, u'image_type': u'Primary', u'specimen_id': None, u'image_width': 50000, u'height': 20864, u'section_number': 210, u'failed': False, u'tier_count': 9, u'image_height': 21216, u'lims1_id': None, u'x': 512, u'data_set_id': 100029767, u'path': u'/external/aibssan/production30/prod0/0400072400/0400072400.aff', u'resolution': 1.0, u'id': 100647837, u'expression_path': None}, {u'structure_id': 1157, u'y': 64, u'annotated': False, u'width': 25024, u'image_type': u'Primary', u'specimen_id': None, u'image_width': 50000, u'height': 21120, u'section_number': 240, u'failed': False, u'tier_count': 9, u'image_height': 21216, u'lims1_id': None, u'x': 25216, u'data_set_id': 100029767, u'path': u'/external/aibssan/production30/prod0/0400072400/0400072400.aff', u'resolution': 1.0, u'id': 100647838, u'expression_path': None}, {u'structure_id': 1157, u'y': 320, u'annotated': False, u'width': 25024, u'image_type': u'Primary', u'specimen_id': None, u'image_width': 49072, u'height': 20416, u'section_number': 270, u'failed': False, u'tier_count': 9, u'image_height': 20736, u'lims1_id': None, u'x': 192, u'data_set_id': 100029767, u'path': u'/external/aibssan/production30/prod0/0400055696/0400055696.aff', u'resolution': 1.0, u'id': 100647839, u'expression_path': None}, {u'structure_id': 1157, u'y': 704, u'annotated': False, u'width': 24128, u'image_type': u'Primary', u'specimen_id': None, u'image_width': 49072, u'height': 19520, u'section_number': 300, u'failed': False, u'tier_count': 9, u'image_height': 20736, u'lims1_id': None, u'x': 24640, u'data_set_id': 100029767, u'path': u'/external/aibssan/production30/prod0/0400055696/0400055696.aff', u'resolution': 1.0, u'id': 100647840, u'expression_path': None}, {u'structure_id': 1157, u'y': 1984, u'annotated': False, u'width': 24192, u'image_type': u'Primary', u'specimen_id': None, u'image_width': 50000, u'height': 19008, u'section_number': 285, u'failed': False, u'tier_count': 9, u'image_height': 21216, u'lims1_id': None, u'x': 25856, u'data_set_id': 100029767, u'path': u'/external/aibssan/production30/prod0/0400059523/0400059523.aff', u'resolution': 1.0, u'id': 100647846, u'expression_path': None}, {u'structure_id': 1157, u'y': 704, u'annotated': False, u'width': 25152, u'image_type': u'Primary', u'specimen_id': None, u'image_width': 49008, u'height': 19456, u'section_number': 45, u'failed': False, u'tier_count': 9, u'image_height': 20864, u'lims1_id': None, u'x': 23040, u'data_set_id': 100029767, u'path': u'/external/aibssan/production30/prod0/0400070788/0400070788.aff', u'resolution': 1.0, u'id': 100647788, u'expression_path': None}, {u'structure_id': 1157, u'y': 384, u'annotated': False, u'width': 21952, u'image_type': u'Primary', u'specimen_id': None, u'image_width': 49008, u'height': 18624, u'section_number': 15, u'failed': False, u'tier_count': 9, u'image_height': 20864, u'lims1_id': None, u'x': 192, u'data_set_id': 100029767, u'path': u'/external/aibssan/production30/prod0/0400070788/0400070788.aff', u'resolution': 1.0, u'id': 100647787, u'expression_path': None}, {u'structure_id': 1157, u'y': 256, u'annotated': False, u'width': 24896, u'image_type': u'Primary', u'specimen_id': None, u'image_width': 49536, u'height': 19776, u'section_number': 60, u'failed': False, u'tier_count': 9, u'image_height': 20400, u'lims1_id': None, u'x': 24448, u'data_set_id': 100029767, u'path': u'/external/aibssan/production30/prod0/0400057980/0400057980.aff', u'resolution': 1.0, u'id': 100647844, u'expression_path': None}, {u'structure_id': 1157, u'y': 128, u'annotated': False, u'width': 25792, u'image_type': u'Primary', u'specimen_id': None, u'image_width': 50000, u'height': 20800, u'section_number': 255, u'failed': False, u'tier_count': 9, u'image_height': 21216, u'lims1_id': None, u'x': 704, u'data_set_id': 100029767, u'path': u'/external/aibssan/production30/prod0/0400059523/0400059523.aff', u'resolution': 1.0, u'id': 100647845, u'expression_path': None}, {u'structure_id': 1157, u'y': 64, u'annotated': False, u'width': 25088, u'image_type': u'Primary', u'specimen_id': None, u'image_width': 49744, u'height': 21184, u'section_number': 135, u'failed': False, u'tier_count': 9, u'image_height': 21216, u'lims1_id': None, u'x': 576, u'data_set_id': 100029767, u'path': u'/external/aibssan/production30/prod0/0400059235/0400059235.aff', u'resolution': 1.0, u'id': 100647781, u'expression_path': None}, {u'structure_id': 1157, u'y': 384, u'annotated': False, u'width': 24192, u'image_type': u'Primary', u'specimen_id': None, u'image_width': 49744, u'height': 20864, u'section_number': 165, u'failed': False, u'tier_count': 9, u'image_height': 21216, u'lims1_id': None, u'x': 25728, u'data_set_id': 100029767, u'path': u'/external/aibssan/production30/prod0/0400059235/0400059235.aff', u'resolution': 1.0, u'id': 100647782, u'expression_path': None}, {u'structure_id': 1157, u'y': 976, u'annotated': False, u'width': 23520, u'image_type': u'Primary', u'specimen_id': None, u'image_width': 50000, u'height': 20224, u'section_number': 195, u'failed': False, u'tier_count': 9, u'image_height': 21216, u'lims1_id': None, u'x': 26464, u'data_set_id': 100029767, u'path': u'/external/aibssan/production30/prod0/0400059379/0400059379.aff', u'resolution': 1.0, u'id': 100647783, u'expression_path': None}, {u'structure_id': 1157, u'y': 0, u'annotated': False, u'width': 26320, u'image_type': u'Primary', u'specimen_id': None, u'image_width': 50000, u'height': 21200, u'section_number': 225, u'failed': False, u'tier_count': 9, u'image_height': 21216, u'lims1_id': None, u'x': 0, u'data_set_id': 100029767, u'path': u'/external/aibssan/production30/prod0/0400059379/0400059379.aff', u'resolution': 1.0, u'id': 100647784, u'expression_path': None}, {u'structure_id': 1157, u'y': 192, u'annotated': False, u'width': 25216, u'image_type': u'Primary', u'specimen_id': None, u'image_width': 50000, u'height': 20544, u'section_number': 75, u'failed': False, u'tier_count': 9, u'image_height': 21216, u'lims1_id': None, u'x': 448, u'data_set_id': 100029767, u'path': u'/external/aibssan/production30/prod0/0400059091/0400059091.aff', u'resolution': 1.0, u'id': 100647785, u'expression_path': None}, {u'structure_id': 1157, u'y': 1344, u'annotated': False, u'width': 25088, u'image_type': u'Primary', u'specimen_id': None, u'image_width': 50000, u'height': 19968, u'section_number': 105, u'failed': False, u'tier_count': 9, u'image_height': 21216, u'lims1_id': None, u'x': 25088, u'data_set_id': 100029767, u'path': u'/external/aibssan/production30/prod0/0400059091/0400059091.aff', u'resolution': 1.0, u'id': 100647786, u'expression_path': None}], u'section_thickness': 20, u'expression': False, u'id': 100029767, u'name': None}"
       ]
      },
      {
       "output_type": "stream",
       "stream": "stdout",
       "text": [
        "\n",
        "{u'plane_of_section_id': 4, u'weight': 5210, u'rnaseq_design_id': None, u'specimen_id': 4350, u'reference_space_id': None, u'sphinx_id': 120861, u'qc_date': u'2011-12-16T00:28:11Z', u'failed': False, u'storage_directory': None, u'section_images': [{u'structure_id': 1157, u'y': 1344, u'annotated': False, u'width': 22720, u'image_type': u'Primary', u'specimen_id': None, u'image_width': 49824, u'height': 18624, u'section_number': 12, u'failed': False, u'tier_count': 9, u'image_height': 21968, u'lims1_id': None, u'x': 128, u'data_set_id': 100030029, u'path': u'/external/aibssan/production30/prod0/0400070927/0400070927.aff', u'resolution': 1.0, u'id': 100650170, u'expression_path': u'/external/aibssan/production30/prod0/0400070927/0400070927_expression.aff'}, {u'structure_id': 1157, u'y': 1088, u'annotated': False, u'width': 25728, u'image_type': u'Primary', u'specimen_id': None, u'image_width': 49824, u'height': 19456, u'section_number': 42, u'failed': False, u'tier_count': 9, u'image_height': 21968, u'lims1_id': None, u'x': 23680, u'data_set_id': 100030029, u'path': u'/external/aibssan/production30/prod0/0400070927/0400070927.aff', u'resolution': 1.0, u'id': 100650171, u'expression_path': u'/external/aibssan/production30/prod0/0400070927/0400070927_expression.aff'}, {u'structure_id': 1157, u'y': 768, u'annotated': False, u'width': 25088, u'image_type': u'Primary', u'specimen_id': None, u'image_width': 49824, u'height': 20544, u'section_number': 72, u'failed': False, u'tier_count': 9, u'image_height': 21968, u'lims1_id': None, u'x': 0, u'data_set_id': 100030029, u'path': u'/external/aibssan/production30/prod0/0400071071/0400071071.aff', u'resolution': 1.0, u'id': 100650174, u'expression_path': u'/external/aibssan/production30/prod0/0400071071/0400071071_expression.aff'}, {u'structure_id': 1157, u'y': 1536, u'annotated': False, u'width': 25920, u'image_type': u'Primary', u'specimen_id': None, u'image_width': 49824, u'height': 20352, u'section_number': 102, u'failed': False, u'tier_count': 9, u'image_height': 21968, u'lims1_id': None, u'x': 23872, u'data_set_id': 100030029, u'path': u'/external/aibssan/production30/prod0/0400071071/0400071071.aff', u'resolution': 1.0, u'id': 100650175, u'expression_path': u'/external/aibssan/production30/prod0/0400071071/0400071071_expression.aff'}, {u'structure_id': 1157, u'y': 960, u'annotated': False, u'width': 25024, u'image_type': u'Primary', u'specimen_id': None, u'image_width': 49824, u'height': 20544, u'section_number': 132, u'failed': False, u'tier_count': 9, u'image_height': 21968, u'lims1_id': None, u'x': 320, u'data_set_id': 100030029, u'path': u'/external/aibssan/production30/prod0/0400071215/0400071215.aff', u'resolution': 1.0, u'id': 100650176, u'expression_path': u'/external/aibssan/production30/prod0/0400071215/0400071215_expression.aff'}, {u'structure_id': 1157, u'y': 1152, u'annotated': False, u'width': 25728, u'image_type': u'Primary', u'specimen_id': None, u'image_width': 49824, u'height': 20736, u'section_number': 162, u'failed': False, u'tier_count': 9, u'image_height': 21968, u'lims1_id': None, u'x': 23744, u'data_set_id': 100030029, u'path': u'/external/aibssan/production30/prod0/0400071215/0400071215.aff', u'resolution': 1.0, u'id': 100650177, u'expression_path': u'/external/aibssan/production30/prod0/0400071215/0400071215_expression.aff'}, {u'structure_id': 1157, u'y': 1088, u'annotated': False, u'width': 26624, u'image_type': u'Primary', u'specimen_id': None, u'image_width': 49824, u'height': 20736, u'section_number': 192, u'failed': False, u'tier_count': 9, u'image_height': 21968, u'lims1_id': None, u'x': 128, u'data_set_id': 100030029, u'path': u'/external/aibssan/production30/prod0/0400071359/0400071359.aff', u'resolution': 1.0, u'id': 100650178, u'expression_path': u'/external/aibssan/production30/prod0/0400071359/0400071359_expression.aff'}, {u'structure_id': 1157, u'y': 1088, u'annotated': False, u'width': 23936, u'image_type': u'Primary', u'specimen_id': None, u'image_width': 49824, u'height': 20879, u'section_number': 222, u'failed': False, u'tier_count': 9, u'image_height': 21968, u'lims1_id': None, u'x': 25280, u'data_set_id': 100030029, u'path': u'/external/aibssan/production30/prod0/0400071359/0400071359.aff', u'resolution': 1.0, u'id': 100650179, u'expression_path': u'/external/aibssan/production30/prod0/0400071359/0400071359_expression.aff'}, {u'structure_id': 1157, u'y': 1216, u'annotated': False, u'width': 25664, u'image_type': u'Primary', u'specimen_id': None, u'image_width': 49824, u'height': 20352, u'section_number': 252, u'failed': False, u'tier_count': 9, u'image_height': 21968, u'lims1_id': None, u'x': 768, u'data_set_id': 100030029, u'path': u'/external/aibssan/production30/prod0/0400071503/0400071503.aff', u'resolution': 1.0, u'id': 100650180, u'expression_path': u'/external/aibssan/production30/prod0/0400071503/0400071503_expression.aff'}, {u'structure_id': 1157, u'y': 1216, u'annotated': False, u'width': 24768, u'image_type': u'Primary', u'specimen_id': None, u'image_width': 49824, u'height': 20544, u'section_number': 282, u'failed': False, u'tier_count': 9, u'image_height': 21968, u'lims1_id': None, u'x': 24512, u'data_set_id': 100030029, u'path': u'/external/aibssan/production30/prod0/0400071503/0400071503.aff', u'resolution': 1.0, u'id': 100650181, u'expression_path': u'/external/aibssan/production30/prod0/0400071503/0400071503_expression.aff'}], u'section_thickness': 20, u'expression': False, u'id': 100030029, u'name': None}"
       ]
      },
      {
       "output_type": "stream",
       "stream": "stdout",
       "text": [
        "\n"
       ]
      }
     ],
     "prompt_number": 161
    },
    {
     "cell_type": "code",
     "collapsed": false,
     "input": [],
     "language": "python",
     "metadata": {},
     "outputs": [],
     "prompt_number": 126
    },
    {
     "cell_type": "code",
     "collapsed": false,
     "input": [],
     "language": "python",
     "metadata": {},
     "outputs": [
      {
       "output_type": "pyout",
       "prompt_number": 127,
       "text": [
        "[{'id': 100034525, 'name': u'PCP4', 'type': 'ISH'},\n",
        " {'id': 100029918, 'name': u'CALB1', 'type': 'ISH'},\n",
        " {'id': 100029767, 'name': u'NISSL', 'type': 'HIS'},\n",
        " {'id': 100030029, 'name': u'RORB', 'type': 'ISH'},\n",
        " {'id': 100034525, 'name': u'PCP4', 'type': 'ISH'},\n",
        " {'id': 100029918, 'name': u'CALB1', 'type': 'ISH'},\n",
        " {'id': 100029767, 'name': u'NISSL', 'type': 'HIS'},\n",
        " {'id': 100030029, 'name': u'RORB', 'type': 'ISH'}]"
       ]
      }
     ],
     "prompt_number": 127
    },
    {
     "cell_type": "code",
     "collapsed": false,
     "input": [
      "for e in e.filteredMarkers:\n",
      "    print(api.getImageListForID(e['id']))"
     ],
     "language": "python",
     "metadata": {},
     "outputs": [
      {
       "ename": "AttributeError",
       "evalue": "'dict' object has no attribute 'filteredMarkers'",
       "output_type": "pyerr",
       "traceback": [
        "\u001b[0;31m---------------------------------------------------------------------------\u001b[0m\n\u001b[0;31mAttributeError\u001b[0m                            Traceback (most recent call last)",
        "\u001b[0;32m<ipython-input-130-c86d09ebce57>\u001b[0m in \u001b[0;36m<module>\u001b[0;34m()\u001b[0m\n\u001b[0;32m----> 1\u001b[0;31m \u001b[0;32mfor\u001b[0m \u001b[0me\u001b[0m \u001b[0;32min\u001b[0m \u001b[0me\u001b[0m\u001b[0;34m.\u001b[0m\u001b[0mfilteredMarkers\u001b[0m\u001b[0;34m:\u001b[0m\u001b[0;34m\u001b[0m\u001b[0m\n\u001b[0m\u001b[1;32m      2\u001b[0m     \u001b[0;32mprint\u001b[0m\u001b[0;34m(\u001b[0m\u001b[0mapi\u001b[0m\u001b[0;34m.\u001b[0m\u001b[0mgetImageListForID\u001b[0m\u001b[0;34m(\u001b[0m\u001b[0me\u001b[0m\u001b[0;34m[\u001b[0m\u001b[0;34m'id'\u001b[0m\u001b[0;34m]\u001b[0m\u001b[0;34m)\u001b[0m\u001b[0;34m)\u001b[0m\u001b[0;34m\u001b[0m\u001b[0m\n",
        "\u001b[0;31mAttributeError\u001b[0m: 'dict' object has no attribute 'filteredMarkers'"
       ]
      }
     ],
     "prompt_number": 130
    },
    {
     "cell_type": "code",
     "collapsed": false,
     "input": [],
     "language": "python",
     "metadata": {},
     "outputs": []
    }
   ],
   "metadata": {}
  }
 ]
}